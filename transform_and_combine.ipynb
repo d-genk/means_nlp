{
 "cells": [
  {
   "cell_type": "code",
   "execution_count": 1,
   "id": "6066664d",
   "metadata": {},
   "outputs": [],
   "source": [
    "import os\n",
    "\n",
    "def combine_jsonl(path_to_volume_root):\n",
    "    for folder, subfolders, files in os.walk(path_to_volume_root):\n",
    "        official_text = \"\"\n",
    "        for file in files:\n",
    "            if \".DS\" in file:\n",
    "                continue     \n",
    "            out_path = file[:file.find(\".\")] + \".jsonl\"           \n",
    "\n",
    "            with open(file, \"r\") as infile:\n",
    "                for line in infile:\n",
    "                    while line[0]== \" \":\n",
    "                        line = line [1:]\n",
    "                    if line[0] == \"<\":\n",
    "                        continue\n",
    "                    line = line.replace(\"\\n\", \"\")\n",
    "                    line = line.replace(\"\\\"\", \"\")\n",
    "                    if len(line) == 0:\n",
    "                        continue      \n",
    "                            \n",
    "                    linea= \"{\\\"text\\\": \\\"\" + line + \"\\\"}\\n\"\n",
    "                    official_text += linea            \n",
    "    \n",
    "    path_components = path_to_volume_root.split(\"\\\\\")\n",
    "    id = path_components[len(path_components) - 1]\n",
    "    \n",
    "    with open(os.path.join(path_to_volume_root, id + \".jsonl\"), \"w\", encoding=\"utf-8\") as outfile:\n",
    "        outfile.write(official_text)"
   ]
  },
  {
   "cell_type": "code",
   "execution_count": null,
   "id": "22e56cac",
   "metadata": {},
   "outputs": [],
   "source": [
    "combine_jsonl(path_to_volume_root)"
   ]
  }
 ],
 "metadata": {
  "kernelspec": {
   "display_name": "Python 3 (ipykernel)",
   "language": "python",
   "name": "python3"
  },
  "language_info": {
   "codemirror_mode": {
    "name": "ipython",
    "version": 3
   },
   "file_extension": ".py",
   "mimetype": "text/x-python",
   "name": "python",
   "nbconvert_exporter": "python",
   "pygments_lexer": "ipython3",
   "version": "3.11.0"
  }
 },
 "nbformat": 4,
 "nbformat_minor": 5
}
