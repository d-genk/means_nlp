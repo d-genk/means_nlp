{
 "cells": [
  {
   "cell_type": "code",
   "execution_count": 12,
   "id": "e9cfec8a",
   "metadata": {},
   "outputs": [
    {
     "name": "stdout",
     "output_type": "stream",
     "text": [
      "Enter your file transcription.txt\n",
      "Wed Bigwhite frost, Took& Mary\n",
      "15 Lyos back early from the\n",
      "party\". Mary rode Teddy homes\n",
      "mote to Tillewenks, and to Gred\n",
      "DWalfs asking and on marking\n",
      "Oct 1902\n",
      "Consu Maggis Humphrey Grave\n",
      "Sickman & am to Town for\n",
      "Goods. Rich still at the ountry\n",
      "punching Caue, Morney,\n",
      "Marble Hall, here to night with a\n",
      "lot of Farmers, for Brown\n",
      "Wyld Deavers give to the Carival\n",
      "at Anoxvilts\n",
      "Ida & hildren at\n",
      "hime again, Ed in Stnoxville,\n",
      "Thur Another frock and another\n",
      "16 brantiful day. Mr & Mrs\n",
      "Morton & babies, Mrs Dr HoH\n",
      "man. Ben & her Boss, spent the\n",
      "day nith us. Ma went down\n",
      "to Lims in evening to stay all\n",
      "night with Tho Chiedrew. Rich\n",
      "back\n",
      "m\n"
     ]
    }
   ],
   "source": [
    "def transformer(path):    \n",
    "    out_path = path[:path.find(\".\")] + \".jsonl\"\n",
    "    out_text = \"\"\n",
    "\n",
    "    with open(path, \"r\") as infile:\n",
    "        for line in infile:\n",
    "            line = line.replace(\"\\n\", \"\")\n",
    "            if len(line) == 0:\n",
    "                continue        \n",
    "            #print(line)        \n",
    "            linea= \"{\\\"text\\\": \\\"\" + line + \"\\\"}\\n\"\n",
    "            out_text += linea\n",
    "\n",
    "    with open(out_path, \"w\") as outfile:\n",
    "        for line in out_text:\n",
    "            outfile.write(line)\n",
    "            \n",
    "a= input(\"Enter your file \")\n",
    "transformer(a)"
   ]
  },
  {
   "cell_type": "code",
   "execution_count": null,
   "id": "a8cabc22",
   "metadata": {},
   "outputs": [],
   "source": []
  }
 ],
 "metadata": {
  "kernelspec": {
   "display_name": "Python 3 (ipykernel)",
   "language": "python",
   "name": "python3"
  },
  "language_info": {
   "codemirror_mode": {
    "name": "ipython",
    "version": 3
   },
   "file_extension": ".py",
   "mimetype": "text/x-python",
   "name": "python",
   "nbconvert_exporter": "python",
   "pygments_lexer": "ipython3",
   "version": "3.11.0"
  }
 },
 "nbformat": 4,
 "nbformat_minor": 5
}
